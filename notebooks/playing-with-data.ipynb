{
 "cells": [
  {
   "cell_type": "code",
   "execution_count": 186,
   "metadata": {},
   "outputs": [],
   "source": [
    "import sqlite3\n",
    "conn = sqlite3.connect('../data/database.db')\n",
    "from sklearn.preprocessing import StandardScaler\n",
    "from sklearn.model_selection import train_test_split\n",
    "from sklearn.neural_network import MLPClassifier\n",
    "from sklearn.metrics import classification_report,confusion_matrix\n"
   ]
  },
  {
   "cell_type": "code",
   "execution_count": 187,
   "metadata": {},
   "outputs": [],
   "source": [
    "import numpy as np\n",
    "import matplotlib.pyplot as plt\n",
    "import pandas as pd"
   ]
  },
  {
   "cell_type": "code",
   "execution_count": 188,
   "metadata": {},
   "outputs": [],
   "source": [
    "df = pd.read_sql_query(\"SELECT * FROM warehouse\", conn)\n"
   ]
  },
  {
   "cell_type": "code",
   "execution_count": 189,
   "metadata": {},
   "outputs": [
    {
     "data": {
      "text/html": [
       "<div>\n",
       "<style scoped>\n",
       "    .dataframe tbody tr th:only-of-type {\n",
       "        vertical-align: middle;\n",
       "    }\n",
       "\n",
       "    .dataframe tbody tr th {\n",
       "        vertical-align: top;\n",
       "    }\n",
       "\n",
       "    .dataframe thead th {\n",
       "        text-align: right;\n",
       "    }\n",
       "</style>\n",
       "<table border=\"1\" class=\"dataframe\">\n",
       "  <thead>\n",
       "    <tr style=\"text-align: right;\">\n",
       "      <th></th>\n",
       "      <th>id</th>\n",
       "      <th>date</th>\n",
       "      <th>week</th>\n",
       "      <th>favorite</th>\n",
       "      <th>underdog</th>\n",
       "      <th>point_spread</th>\n",
       "      <th>over_under</th>\n",
       "      <th>local</th>\n",
       "      <th>winner</th>\n",
       "      <th>pointsW</th>\n",
       "      <th>pointsL</th>\n",
       "      <th>loser</th>\n",
       "    </tr>\n",
       "  </thead>\n",
       "  <tbody>\n",
       "    <tr>\n",
       "      <th>0</th>\n",
       "      <td>1</td>\n",
       "      <td>2002-09-05</td>\n",
       "      <td>1</td>\n",
       "      <td>San Francisco 49ers</td>\n",
       "      <td>New York Giants</td>\n",
       "      <td>-3.5</td>\n",
       "      <td>38.5</td>\n",
       "      <td>New York Giants</td>\n",
       "      <td>San Francisco 49ers</td>\n",
       "      <td>16</td>\n",
       "      <td>13</td>\n",
       "      <td>New York Giants</td>\n",
       "    </tr>\n",
       "    <tr>\n",
       "      <th>1</th>\n",
       "      <td>2</td>\n",
       "      <td>2002-09-08</td>\n",
       "      <td>1</td>\n",
       "      <td>Chicago Bears</td>\n",
       "      <td>Minnesota Vikings</td>\n",
       "      <td>-4.5</td>\n",
       "      <td>41.0</td>\n",
       "      <td>Chicago Bears</td>\n",
       "      <td>Chicago Bears</td>\n",
       "      <td>27</td>\n",
       "      <td>23</td>\n",
       "      <td>Minnesota Vikings</td>\n",
       "    </tr>\n",
       "    <tr>\n",
       "      <th>2</th>\n",
       "      <td>3</td>\n",
       "      <td>2002-09-08</td>\n",
       "      <td>1</td>\n",
       "      <td>Baltimore Ravens</td>\n",
       "      <td>Carolina Panthers</td>\n",
       "      <td>-2.0</td>\n",
       "      <td>33.5</td>\n",
       "      <td>Carolina Panthers</td>\n",
       "      <td>Carolina Panthers</td>\n",
       "      <td>10</td>\n",
       "      <td>7</td>\n",
       "      <td>Baltimore Ravens</td>\n",
       "    </tr>\n",
       "    <tr>\n",
       "      <th>3</th>\n",
       "      <td>4</td>\n",
       "      <td>2002-09-08</td>\n",
       "      <td>1</td>\n",
       "      <td>New York Jets</td>\n",
       "      <td>Buffalo Bills</td>\n",
       "      <td>-3.0</td>\n",
       "      <td>40.5</td>\n",
       "      <td>Buffalo Bills</td>\n",
       "      <td>New York Jets</td>\n",
       "      <td>37</td>\n",
       "      <td>31</td>\n",
       "      <td>Buffalo Bills</td>\n",
       "    </tr>\n",
       "    <tr>\n",
       "      <th>4</th>\n",
       "      <td>5</td>\n",
       "      <td>2002-09-08</td>\n",
       "      <td>1</td>\n",
       "      <td>Miami Dolphins</td>\n",
       "      <td>Detroit Lions</td>\n",
       "      <td>-8.5</td>\n",
       "      <td>36.0</td>\n",
       "      <td>Miami Dolphins</td>\n",
       "      <td>Miami Dolphins</td>\n",
       "      <td>49</td>\n",
       "      <td>21</td>\n",
       "      <td>Detroit Lions</td>\n",
       "    </tr>\n",
       "  </tbody>\n",
       "</table>\n",
       "</div>"
      ],
      "text/plain": [
       "   id        date week             favorite           underdog  point_spread  \\\n",
       "0   1  2002-09-05    1  San Francisco 49ers    New York Giants          -3.5   \n",
       "1   2  2002-09-08    1        Chicago Bears  Minnesota Vikings          -4.5   \n",
       "2   3  2002-09-08    1     Baltimore Ravens  Carolina Panthers          -2.0   \n",
       "3   4  2002-09-08    1        New York Jets      Buffalo Bills          -3.0   \n",
       "4   5  2002-09-08    1       Miami Dolphins      Detroit Lions          -8.5   \n",
       "\n",
       "   over_under              local               winner  pointsW  pointsL  \\\n",
       "0        38.5    New York Giants  San Francisco 49ers       16       13   \n",
       "1        41.0      Chicago Bears        Chicago Bears       27       23   \n",
       "2        33.5  Carolina Panthers    Carolina Panthers       10        7   \n",
       "3        40.5      Buffalo Bills        New York Jets       37       31   \n",
       "4        36.0     Miami Dolphins       Miami Dolphins       49       21   \n",
       "\n",
       "               loser  \n",
       "0    New York Giants  \n",
       "1  Minnesota Vikings  \n",
       "2   Baltimore Ravens  \n",
       "3      Buffalo Bills  \n",
       "4      Detroit Lions  "
      ]
     },
     "execution_count": 189,
     "metadata": {},
     "output_type": "execute_result"
    }
   ],
   "source": [
    "df.head()"
   ]
  },
  {
   "cell_type": "code",
   "execution_count": 190,
   "metadata": {},
   "outputs": [
    {
     "data": {
      "text/html": [
       "<div>\n",
       "<style scoped>\n",
       "    .dataframe tbody tr th:only-of-type {\n",
       "        vertical-align: middle;\n",
       "    }\n",
       "\n",
       "    .dataframe tbody tr th {\n",
       "        vertical-align: top;\n",
       "    }\n",
       "\n",
       "    .dataframe thead th {\n",
       "        text-align: right;\n",
       "    }\n",
       "</style>\n",
       "<table border=\"1\" class=\"dataframe\">\n",
       "  <thead>\n",
       "    <tr style=\"text-align: right;\">\n",
       "      <th></th>\n",
       "      <th>right_guess</th>\n",
       "      <th>point_spread</th>\n",
       "      <th>over_under</th>\n",
       "      <th>favorite_is_local</th>\n",
       "    </tr>\n",
       "  </thead>\n",
       "  <tbody>\n",
       "    <tr>\n",
       "      <th>0</th>\n",
       "      <td>1</td>\n",
       "      <td>-3.5</td>\n",
       "      <td>38.5</td>\n",
       "      <td>0</td>\n",
       "    </tr>\n",
       "    <tr>\n",
       "      <th>1</th>\n",
       "      <td>1</td>\n",
       "      <td>-4.5</td>\n",
       "      <td>41.0</td>\n",
       "      <td>1</td>\n",
       "    </tr>\n",
       "    <tr>\n",
       "      <th>2</th>\n",
       "      <td>0</td>\n",
       "      <td>-2.0</td>\n",
       "      <td>33.5</td>\n",
       "      <td>0</td>\n",
       "    </tr>\n",
       "    <tr>\n",
       "      <th>3</th>\n",
       "      <td>1</td>\n",
       "      <td>-3.0</td>\n",
       "      <td>40.5</td>\n",
       "      <td>0</td>\n",
       "    </tr>\n",
       "    <tr>\n",
       "      <th>4</th>\n",
       "      <td>1</td>\n",
       "      <td>-8.5</td>\n",
       "      <td>36.0</td>\n",
       "      <td>1</td>\n",
       "    </tr>\n",
       "  </tbody>\n",
       "</table>\n",
       "</div>"
      ],
      "text/plain": [
       "   right_guess  point_spread  over_under  favorite_is_local\n",
       "0            1          -3.5        38.5                  0\n",
       "1            1          -4.5        41.0                  1\n",
       "2            0          -2.0        33.5                  0\n",
       "3            1          -3.0        40.5                  0\n",
       "4            1          -8.5        36.0                  1"
      ]
     },
     "execution_count": 190,
     "metadata": {},
     "output_type": "execute_result"
    }
   ],
   "source": [
    "nnframe = pd.DataFrame(data={\n",
    "    'right_guess':  (df['favorite'] == df['winner']).astype(int),\n",
    "    'point_spread': df['point_spread'],\n",
    "    'over_under': df['over_under'],\n",
    "    'favorite_is_local': (df['favorite'] == df['local']).astype(int),\n",
    "})\n",
    "nnframe.head()"
   ]
  },
  {
   "cell_type": "markdown",
   "metadata": {},
   "source": [
    "## separate training from testing data"
   ]
  },
  {
   "cell_type": "code",
   "execution_count": 191,
   "metadata": {},
   "outputs": [],
   "source": [
    "X = nnframe.drop('right_guess', axis=1)\n",
    "Y = nnframe['right_guess']"
   ]
  },
  {
   "cell_type": "code",
   "execution_count": 192,
   "metadata": {},
   "outputs": [],
   "source": [
    "X_train, X_test, y_train, y_test = train_test_split(X, Y)"
   ]
  },
  {
   "cell_type": "code",
   "execution_count": 193,
   "metadata": {},
   "outputs": [
    {
     "data": {
      "text/plain": [
       "StandardScaler(copy=True, with_mean=True, with_std=True)"
      ]
     },
     "execution_count": 193,
     "metadata": {},
     "output_type": "execute_result"
    }
   ],
   "source": [
    "scaler = StandardScaler()\n",
    "scaler.fit(X_train)"
   ]
  },
  {
   "cell_type": "code",
   "execution_count": 194,
   "metadata": {},
   "outputs": [
    {
     "data": {
      "text/plain": [
       "array([[-2.42565701, -0.33626561,  0.71228206],\n",
       "       [ 0.98220095,  0.19599066,  0.71228206],\n",
       "       [-0.05497322, -1.61368068,  0.71228206],\n",
       "       ...,\n",
       "       [ 0.24136226,  0.72824694, -1.4039382 ],\n",
       "       [-1.38848285,  0.30244192,  0.71228206],\n",
       "       [-0.64764416,  0.62179568,  0.71228206]])"
      ]
     },
     "execution_count": 194,
     "metadata": {},
     "output_type": "execute_result"
    }
   ],
   "source": [
    "X_train = scaler.transform(X_train)\n",
    "X_test = scaler.transform(X_test)\n",
    "\n",
    "X_train"
   ]
  },
  {
   "cell_type": "markdown",
   "metadata": {},
   "source": [
    "## Training"
   ]
  },
  {
   "cell_type": "code",
   "execution_count": 198,
   "metadata": {},
   "outputs": [],
   "source": [
    "mlp = MLPClassifier(hidden_layer_sizes=(10,10,10),max_iter=600)\n"
   ]
  },
  {
   "cell_type": "code",
   "execution_count": 199,
   "metadata": {},
   "outputs": [
    {
     "data": {
      "text/plain": [
       "MLPClassifier(activation='relu', alpha=0.0001, batch_size='auto', beta_1=0.9,\n",
       "       beta_2=0.999, early_stopping=False, epsilon=1e-08,\n",
       "       hidden_layer_sizes=(10, 10, 10), learning_rate='constant',\n",
       "       learning_rate_init=0.001, max_iter=600, momentum=0.9,\n",
       "       nesterovs_momentum=True, power_t=0.5, random_state=None,\n",
       "       shuffle=True, solver='adam', tol=0.0001, validation_fraction=0.1,\n",
       "       verbose=False, warm_start=False)"
      ]
     },
     "execution_count": 199,
     "metadata": {},
     "output_type": "execute_result"
    }
   ],
   "source": [
    "mlp.fit(X_train,y_train)"
   ]
  },
  {
   "cell_type": "markdown",
   "metadata": {},
   "source": [
    "## Predict"
   ]
  },
  {
   "cell_type": "code",
   "execution_count": 200,
   "metadata": {},
   "outputs": [],
   "source": [
    "predictions = mlp.predict(X_test)"
   ]
  },
  {
   "cell_type": "code",
   "execution_count": 203,
   "metadata": {},
   "outputs": [
    {
     "name": "stdout",
     "output_type": "stream",
     "text": [
      "[[  1 335]\n",
      " [  4 686]]\n"
     ]
    }
   ],
   "source": [
    "print(confusion_matrix(y_test,predictions))"
   ]
  },
  {
   "cell_type": "code",
   "execution_count": 204,
   "metadata": {},
   "outputs": [
    {
     "name": "stdout",
     "output_type": "stream",
     "text": [
      "             precision    recall  f1-score   support\n",
      "\n",
      "          0       0.20      0.00      0.01       336\n",
      "          1       0.67      0.99      0.80       690\n",
      "\n",
      "avg / total       0.52      0.67      0.54      1026\n",
      "\n"
     ]
    }
   ],
   "source": [
    "print(classification_report(y_test,predictions))\n"
   ]
  },
  {
   "cell_type": "markdown",
   "metadata": {},
   "source": [
    "precision = % of times it predicts a win and it is a win.\n",
    "\n",
    "recall = % of times it predicts a win over the overall total of wins"
   ]
  },
  {
   "cell_type": "code",
   "execution_count": 185,
   "metadata": {},
   "outputs": [
    {
     "data": {
      "text/plain": [
       "array([[1, 0],\n",
       "       [0, 1]])"
      ]
     },
     "execution_count": 185,
     "metadata": {},
     "output_type": "execute_result"
    }
   ],
   "source": [
    "confusion_matrix([1, 0],[1,0])"
   ]
  },
  {
   "cell_type": "code",
   "execution_count": null,
   "metadata": {},
   "outputs": [],
   "source": []
  }
 ],
 "metadata": {
  "kernelspec": {
   "display_name": "Python 3",
   "language": "python",
   "name": "python3"
  },
  "language_info": {
   "codemirror_mode": {
    "name": "ipython",
    "version": 3
   },
   "file_extension": ".py",
   "mimetype": "text/x-python",
   "name": "python",
   "nbconvert_exporter": "python",
   "pygments_lexer": "ipython3",
   "version": "3.7.0"
  }
 },
 "nbformat": 4,
 "nbformat_minor": 2
}
